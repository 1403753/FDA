{
 "cells": [
  {
   "cell_type": "markdown",
   "metadata": {},
   "source": [
    "# Q2.1"
   ]
  },
  {
   "cell_type": "markdown",
   "metadata": {},
   "source": [
    "1. Use `matplotlib` to show scatterplots of each variable"
   ]
  },
  {
   "cell_type": "code",
   "execution_count": 1,
   "metadata": {
    "scrolled": true
   },
   "outputs": [
    {
     "data": {
      "text/plain": [
       "array([[ 1.        , -0.17677668],\n",
       "       [-0.17677668,  1.        ]])"
      ]
     },
     "execution_count": 1,
     "metadata": {},
     "output_type": "execute_result"
    }
   ],
   "source": [
    "from matplotlib import pyplot as plt\n",
    "import numpy as np\n",
    "import pandas as pd\n",
    "\n",
    "temp = pd.read_csv(\"happiness.csv\")\n",
    "data = temp.copy()\n",
    "\n",
    "for i in range(len(data.loc[:,'inflation_rate[%]'])):\n",
    "    if data.loc[:,'inflation_rate[%]'].iat[i] > 100:\n",
    "        data.loc[:,'inflation_rate[%]'].iat[i] = data.loc[:,'inflation_rate[%]'].mean()\n",
    "        #data.loc[:,'inflation_rate[%]'].iat[i] = data[data.loc[:,'inflation_rate[%]'] > 100].mean() <- error\n",
    "        \n",
    "data.drop(columns = ['country', 'happiness_rank', 'map_reference', 'biggest_official_language'])\n",
    "x = data.loc[:,'happiness_score']\n",
    "\n",
    "s = 1\n",
    "\n",
    "plt.subplot(4, 4, 1)\n",
    "plt.scatter(x, data.loc[:,'economy'], s)\n",
    "plt.title(data.columns.values[3])\n",
    "\n",
    "plt.subplot(4, 4, 2)\n",
    "plt.scatter(x, data.loc[:,'family'], s)\n",
    "plt.title(data.columns.values[4])\n",
    "\n",
    "plt.subplot(4, 4, 3)\n",
    "plt.scatter(x, data.loc[:,'health'], s)\n",
    "plt.title(data.columns.values[5])\n",
    "\n",
    "plt.subplot(4, 4, 4)\n",
    "plt.scatter(x, data.loc[:,'freedom'], s)\n",
    "plt.title(data.columns.values[6])\n",
    "\n",
    "plt.subplot(4, 4, 5)\n",
    "plt.scatter(x, data.loc[:,'generosity'], s)\n",
    "plt.title(data.columns.values[7])\n",
    "\n",
    "plt.subplot(4, 4, 6)\n",
    "plt.scatter(x, data.loc[:,'corruption'], s)\n",
    "plt.title(data.columns.values[8])\n",
    "\n",
    "plt.subplot(4, 4, 7)\n",
    "plt.scatter(x, data.loc[:,'dystopia_residual'], s)\n",
    "plt.title(data.columns.values[9])\n",
    "\n",
    "plt.subplot(4, 4, 8)\n",
    "plt.scatter(x, data.loc[:,'internet_access_population[%]'], s)\n",
    "plt.title(data.columns.values[10])\n",
    "\n",
    "plt.subplot(4, 4, 9)\n",
    "plt.scatter(x, data.loc[:,'cellular_subscriptions'], s)\n",
    "plt.title(data.columns.values[11])\n",
    "\n",
    "plt.subplot(4, 4, 10)\n",
    "plt.scatter(x, data.loc[:,'surplus_deficit_GDP[%]'], s)\n",
    "plt.ylim(plt.ylim()[0],100)\n",
    "plt.title(data.columns.values[12])\n",
    "\n",
    "plt.subplot(4, 4, 11)\n",
    "plt.scatter(x, data.loc[:,'familiy_income_gini_coeff'], s)\n",
    "plt.title(data.columns.values[13])\n",
    "\n",
    "plt.subplot(4, 4, 12)\n",
    "plt.scatter(x, data.loc[:,'GDP_per_capita[$]'], s)\n",
    "plt.title(data.columns.values[14])\n",
    "\n",
    "plt.subplot(4, 4, 13)\n",
    "plt.scatter(x, data.loc[:,'inflation_rate[%]'], s)\n",
    "plt.ylim(plt.ylim()[0],100)\n",
    "plt.title(data.columns.values[15])\n",
    "\n",
    "plt.subplot(4, 4, 14)\n",
    "plt.scatter(x, data.loc[:,'military_expenditures[%]'], s)\n",
    "plt.ylim(plt.ylim()[0],100)\n",
    "plt.title(data.columns.values[16])\n",
    "\n",
    "plt.subplot(4, 4, 15)\n",
    "plt.scatter(x, data.loc[:,'population'], s)\n",
    "plt.title(data.columns.values[19])\n",
    "\n",
    "plt.subplots_adjust(top=2, bottom=0, left=0, right=2, hspace=0.35, wspace=0.35)\n",
    "\n",
    "#np.corrcoef(x, data.loc[:,'population'])\n",
    "\n",
    "data = data.fillna(5);\n",
    "\n",
    "#np.corrcoef(data.loc[:,'economy'], data.loc[:,'family'])\n",
    "np.corrcoef(data.loc[:,'freedom'], data.loc[:,'cellular_subscriptions'])\n",
    "np.corrcoef([data.loc[:,'freedom'], data.loc[:,'familiy_income_gini_coeff']])\n",
    "np.corrcoef([x, data.loc[:,'familiy_income_gini_coeff']])\n",
    "\n",
    "\n",
    "#import scipy.stats as stats\n",
    "#stats.f_oneway(data.loc[:,'economy'], data.loc[:,'corruption'])\n"
   ]
  },
  {
   "cell_type": "markdown",
   "metadata": {},
   "source": [
    "\\begin{enumerate}\n",
    "    \\item economy: positive linear correlation\n",
    "    \\item family: positive linear/quadratic correlation\n",
    "    \\item health: positive linear correlation\n",
    "    \\item freedom: cubic correlation / no correlation\n",
    "    \\item generosity: weak quadratic correlation / no correlation\n",
    "    \\item corruption: cubic correlation / no correlation\n",
    "    \\item dystopia residual: no correlation\n",
    "    \\item internet acces population $\\left[ \\% \\right]$: positive linear correlation / cubic correlation\n",
    "    \\item cellular subscriptions: quadratic correlation\n",
    "    \\item surplus deficit GDP $\\left[ \\% \\right]$: no correlation\n",
    "    \\item family income gini coeff: no correlation / weak negative linear correlation\n",
    "    \\item GDP per capital $\\left[ \\$ \\right]$: quadratic correlation\n",
    "    \\item inflation rate $\\left[ \\% \\right]$: no correlation\n",
    "    \\item military expenditures $\\left[ \\% \\right]$: no correlation\n",
    "    \\item population: no correlation\n",
    "\\end{enumerate}"
   ]
  },
  {
   "cell_type": "markdown",
   "metadata": {},
   "source": [
    "text about importance"
   ]
  },
  {
   "cell_type": "markdown",
   "metadata": {},
   "source": [
    "# Q2.2"
   ]
  },
  {
   "cell_type": "markdown",
   "metadata": {},
   "source": [
    "Load data and set up packages"
   ]
  },
  {
   "cell_type": "code",
   "execution_count": 2,
   "metadata": {},
   "outputs": [],
   "source": [
    "import sklearn\n",
    "from sklearn.kernel_ridge import KernelRidge\n",
    "from sklearn.linear_model import LinearRegression\n",
    "from sklearn.model_selection import train_test_split\n",
    "from sklearn.model_selection import RepeatedKFold\n",
    "from sklearn.metrics.pairwise import pairwise_kernels"
   ]
  },
  {
   "cell_type": "markdown",
   "metadata": {},
   "source": [
    "Check the dataset for missing values and, if any are found, address them programmatically"
   ]
  },
  {
   "cell_type": "code",
   "execution_count": 3,
   "metadata": {},
   "outputs": [
    {
     "data": {
      "text/html": [
       "<div>\n",
       "<style scoped>\n",
       "    .dataframe tbody tr th:only-of-type {\n",
       "        vertical-align: middle;\n",
       "    }\n",
       "\n",
       "    .dataframe tbody tr th {\n",
       "        vertical-align: top;\n",
       "    }\n",
       "\n",
       "    .dataframe thead th {\n",
       "        text-align: right;\n",
       "    }\n",
       "</style>\n",
       "<table border=\"1\" class=\"dataframe\">\n",
       "  <thead>\n",
       "    <tr style=\"text-align: right;\">\n",
       "      <th></th>\n",
       "      <th>country</th>\n",
       "      <th>happiness_rank</th>\n",
       "      <th>happiness_score</th>\n",
       "      <th>economy</th>\n",
       "      <th>family</th>\n",
       "      <th>health</th>\n",
       "      <th>freedom</th>\n",
       "      <th>generosity</th>\n",
       "      <th>corruption</th>\n",
       "      <th>dystopia_residual</th>\n",
       "      <th>internet_access_population[%]</th>\n",
       "      <th>cellular_subscriptions</th>\n",
       "      <th>surplus_deficit_GDP[%]</th>\n",
       "      <th>familiy_income_gini_coeff</th>\n",
       "      <th>GDP_per_capita[$]</th>\n",
       "      <th>inflation_rate[%]</th>\n",
       "      <th>military_expenditures[%]</th>\n",
       "      <th>map_reference</th>\n",
       "      <th>biggest_official_language</th>\n",
       "      <th>population</th>\n",
       "    </tr>\n",
       "  </thead>\n",
       "  <tbody>\n",
       "    <tr>\n",
       "      <th>0</th>\n",
       "      <td>Norway</td>\n",
       "      <td>1</td>\n",
       "      <td>7.537</td>\n",
       "      <td>1.616463</td>\n",
       "      <td>1.533524</td>\n",
       "      <td>0.796667</td>\n",
       "      <td>0.635423</td>\n",
       "      <td>0.362012</td>\n",
       "      <td>0.315964</td>\n",
       "      <td>2.277027</td>\n",
       "      <td>97.3</td>\n",
       "      <td>108</td>\n",
       "      <td>4.2</td>\n",
       "      <td>26.8</td>\n",
       "      <td>71800.0</td>\n",
       "      <td>1.9</td>\n",
       "      <td>1.62</td>\n",
       "      <td>Europe</td>\n",
       "      <td>Bokmal Norwegian</td>\n",
       "      <td>5320045</td>\n",
       "    </tr>\n",
       "    <tr>\n",
       "      <th>1</th>\n",
       "      <td>Denmark</td>\n",
       "      <td>2</td>\n",
       "      <td>7.522</td>\n",
       "      <td>1.482383</td>\n",
       "      <td>1.551122</td>\n",
       "      <td>0.792566</td>\n",
       "      <td>0.626007</td>\n",
       "      <td>0.355280</td>\n",
       "      <td>0.400770</td>\n",
       "      <td>2.313707</td>\n",
       "      <td>97.0</td>\n",
       "      <td>124</td>\n",
       "      <td>-0.6</td>\n",
       "      <td>29.0</td>\n",
       "      <td>49900.0</td>\n",
       "      <td>1.1</td>\n",
       "      <td>1.15</td>\n",
       "      <td>Europe</td>\n",
       "      <td>Danish</td>\n",
       "      <td>5605948</td>\n",
       "    </tr>\n",
       "    <tr>\n",
       "      <th>2</th>\n",
       "      <td>Iceland</td>\n",
       "      <td>3</td>\n",
       "      <td>7.504</td>\n",
       "      <td>1.480633</td>\n",
       "      <td>1.610574</td>\n",
       "      <td>0.833552</td>\n",
       "      <td>0.627163</td>\n",
       "      <td>0.475540</td>\n",
       "      <td>0.153527</td>\n",
       "      <td>2.322715</td>\n",
       "      <td>98.2</td>\n",
       "      <td>121</td>\n",
       "      <td>0.9</td>\n",
       "      <td>28.0</td>\n",
       "      <td>51800.0</td>\n",
       "      <td>1.8</td>\n",
       "      <td>0.10</td>\n",
       "      <td>Arctic Region</td>\n",
       "      <td>Icelandic</td>\n",
       "      <td>339747</td>\n",
       "    </tr>\n",
       "    <tr>\n",
       "      <th>3</th>\n",
       "      <td>Switzerland</td>\n",
       "      <td>4</td>\n",
       "      <td>7.494</td>\n",
       "      <td>1.564980</td>\n",
       "      <td>1.516912</td>\n",
       "      <td>0.858131</td>\n",
       "      <td>0.620071</td>\n",
       "      <td>0.290549</td>\n",
       "      <td>0.367007</td>\n",
       "      <td>2.276716</td>\n",
       "      <td>89.4</td>\n",
       "      <td>137</td>\n",
       "      <td>0.2</td>\n",
       "      <td>29.5</td>\n",
       "      <td>61400.0</td>\n",
       "      <td>0.5</td>\n",
       "      <td>0.71</td>\n",
       "      <td>Europe</td>\n",
       "      <td>German</td>\n",
       "      <td>8236303</td>\n",
       "    </tr>\n",
       "    <tr>\n",
       "      <th>4</th>\n",
       "      <td>Finland</td>\n",
       "      <td>5</td>\n",
       "      <td>7.469</td>\n",
       "      <td>1.443572</td>\n",
       "      <td>1.540247</td>\n",
       "      <td>0.809158</td>\n",
       "      <td>0.617951</td>\n",
       "      <td>0.245483</td>\n",
       "      <td>0.382612</td>\n",
       "      <td>2.430182</td>\n",
       "      <td>87.7</td>\n",
       "      <td>132</td>\n",
       "      <td>-2.0</td>\n",
       "      <td>27.2</td>\n",
       "      <td>44300.0</td>\n",
       "      <td>0.8</td>\n",
       "      <td>1.23</td>\n",
       "      <td>Europe</td>\n",
       "      <td>Finnish</td>\n",
       "      <td>5518371</td>\n",
       "    </tr>\n",
       "  </tbody>\n",
       "</table>\n",
       "</div>"
      ],
      "text/plain": [
       "       country  happiness_rank  happiness_score   economy    family    health  \\\n",
       "0       Norway               1            7.537  1.616463  1.533524  0.796667   \n",
       "1      Denmark               2            7.522  1.482383  1.551122  0.792566   \n",
       "2      Iceland               3            7.504  1.480633  1.610574  0.833552   \n",
       "3  Switzerland               4            7.494  1.564980  1.516912  0.858131   \n",
       "4      Finland               5            7.469  1.443572  1.540247  0.809158   \n",
       "\n",
       "    freedom  generosity  corruption  dystopia_residual  \\\n",
       "0  0.635423    0.362012    0.315964           2.277027   \n",
       "1  0.626007    0.355280    0.400770           2.313707   \n",
       "2  0.627163    0.475540    0.153527           2.322715   \n",
       "3  0.620071    0.290549    0.367007           2.276716   \n",
       "4  0.617951    0.245483    0.382612           2.430182   \n",
       "\n",
       "   internet_access_population[%]  cellular_subscriptions  \\\n",
       "0                           97.3                     108   \n",
       "1                           97.0                     124   \n",
       "2                           98.2                     121   \n",
       "3                           89.4                     137   \n",
       "4                           87.7                     132   \n",
       "\n",
       "   surplus_deficit_GDP[%]  familiy_income_gini_coeff  GDP_per_capita[$]  \\\n",
       "0                     4.2                       26.8            71800.0   \n",
       "1                    -0.6                       29.0            49900.0   \n",
       "2                     0.9                       28.0            51800.0   \n",
       "3                     0.2                       29.5            61400.0   \n",
       "4                    -2.0                       27.2            44300.0   \n",
       "\n",
       "   inflation_rate[%]  military_expenditures[%]  map_reference  \\\n",
       "0                1.9                      1.62         Europe   \n",
       "1                1.1                      1.15         Europe   \n",
       "2                1.8                      0.10  Arctic Region   \n",
       "3                0.5                      0.71         Europe   \n",
       "4                0.8                      1.23         Europe   \n",
       "\n",
       "  biggest_official_language  population  \n",
       "0          Bokmal Norwegian     5320045  \n",
       "1                    Danish     5605948  \n",
       "2                 Icelandic      339747  \n",
       "3                    German     8236303  \n",
       "4                   Finnish     5518371  "
      ]
     },
     "execution_count": 3,
     "metadata": {},
     "output_type": "execute_result"
    }
   ],
   "source": [
    "data.head()"
   ]
  },
  {
   "cell_type": "markdown",
   "metadata": {},
   "source": [
    "## Linear model"
   ]
  },
  {
   "cell_type": "code",
   "execution_count": 4,
   "metadata": {},
   "outputs": [
    {
     "data": {
      "text/plain": [
       "[<matplotlib.lines.Line2D at 0x7fb8b4162710>]"
      ]
     },
     "execution_count": 4,
     "metadata": {},
     "output_type": "execute_result"
    },
    {
     "data": {
      "image/png": "[encoded data removed]",
      "text/plain": [
       "<Figure size 432x288 with 1 Axes>"
      ]
     },
     "metadata": {
      "needs_background": "light"
     },
     "output_type": "display_data"
    }
   ],
   "source": [
    "\n",
    "linearModel = LinearRegression();\n",
    "\n",
    "x_reshaped = np.array(data.happiness_score).reshape(-1,1)\n",
    "linearModel.fit(x_reshaped, data.family)\n",
    "\n",
    "reg_x = np.linspace(2.5,7.5, 100).reshape(-1,1)\n",
    "reg_y = linearModel.predict(reg_x)\n",
    "\n",
    "plt.scatter(data.happiness_score, data.family)\n",
    "plt.plot(reg_x, reg_y, c ='red')\n",
    "\n",
    "\n"
   ]
  },
  {
   "cell_type": "markdown",
   "metadata": {},
   "source": [
    "{text results here}"
   ]
  },
  {
   "cell_type": "markdown",
   "metadata": {},
   "source": [
    "## Quadratic model"
   ]
  },
  {
   "cell_type": "code",
   "execution_count": 5,
   "metadata": {},
   "outputs": [
    {
     "data": {
      "text/plain": [
       "[<matplotlib.lines.Line2D at 0x7fb8b41248d0>]"
      ]
     },
     "execution_count": 5,
     "metadata": {},
     "output_type": "execute_result"
    },
    {
     "data": {
      "image/png": "[encoded data removed]",
      "text/plain": [
       "<Figure size 432x288 with 1 Axes>"
      ]
     },
     "metadata": {
      "needs_background": "light"
     },
     "output_type": "display_data"
    }
   ],
   "source": [
    "\n",
    "sklearn.metrics.pairwise.polynomial_kernel(x_reshaped, np.array(data.family).reshape(-1,1), degree=3, gamma=None, coef0=1)\n",
    "\n",
    "reg_x = np.linspace(2.5,7.5, 100).reshape(-1,1)\n",
    "reg_y = linearModel.predict(reg_x)\n",
    "\n",
    "plt.scatter(data.happiness_score, data.family)\n",
    "plt.plot(reg_x, reg_y, c ='red')\n"
   ]
  },
  {
   "cell_type": "markdown",
   "metadata": {},
   "source": [
    "{text results here}"
   ]
  },
  {
   "cell_type": "markdown",
   "metadata": {},
   "source": [
    "## Gaussian model"
   ]
  },
  {
   "cell_type": "code",
   "execution_count": null,
   "metadata": {},
   "outputs": [],
   "source": []
  },
  {
   "cell_type": "markdown",
   "metadata": {},
   "source": [
    "{text results here}"
   ]
  },
  {
   "cell_type": "markdown",
   "metadata": {},
   "source": [
    "## Comparison"
   ]
  },
  {
   "cell_type": "markdown",
   "metadata": {},
   "source": [
    "{replace with your comparison paragraph/images}"
   ]
  }
 ],
 "metadata": {
  "kernelspec": {
   "display_name": "Python 3",
   "language": "python",
   "name": "python3"
  },
  "language_info": {
   "codemirror_mode": {
    "name": "ipython",
    "version": 3
   },
   "file_extension": ".py",
   "mimetype": "text/x-python",
   "name": "python",
   "nbconvert_exporter": "python",
   "pygments_lexer": "ipython3",
   "version": "3.6.7"
  }
 },
 "nbformat": 4,
 "nbformat_minor": 2
}
