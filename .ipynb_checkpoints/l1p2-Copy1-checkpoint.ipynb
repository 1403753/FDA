{
 "cells": [
  {
   "cell_type": "markdown",
   "metadata": {},
   "source": [
    "# Q2.1"
   ]
  },
  {
   "cell_type": "markdown",
   "metadata": {},
   "source": [
    "1. Use `matplotlib` to show scatterplots of each variable"
   ]
  },
  {
   "cell_type": "code",
   "execution_count": 1,
   "metadata": {},
   "outputs": [],
   "source": [
    "from matplotlib import pyplot as plt\n",
    "import numpy as np\n",
    "import pandas as pd\n",
    "\n",
    "data = pd.read_csv(\"happiness.csv\")\n",
    "\n",
    "# fill impossible data with NaN\n",
    "data.loc[data['inflation_rate[%]'] > 100, 'inflation_rate[%]'] = np.nan\n",
    "\n",
    "\n",
    "y = data.loc[:,'happiness_score']\n",
    "\n",
    "data.drop(columns = ['country', 'happiness_rank', 'map_reference', 'biggest_official_language'], inplace=True)\n",
    "\n",
    "s = 1\n",
    "\n",
    "plt.subplot(4, 4, 1)\n",
    "plt.scatter(data.loc[:,'economy'], y, s)\n",
    "plt.title('economy')\n",
    "\n",
    "plt.subplot(4, 4, 2)\n",
    "plt.scatter(data.loc[:,'family'], y, s)\n",
    "plt.title('family')\n",
    "\n",
    "plt.subplot(4, 4, 3)\n",
    "plt.scatter(data.loc[:,'health'], y, s)\n",
    "plt.title('health')\n",
    "\n",
    "plt.subplot(4, 4, 4)\n",
    "plt.scatter(data.loc[:,'freedom'], y, s)\n",
    "plt.title('freedom')\n",
    "\n",
    "plt.subplot(4, 4, 5)\n",
    "plt.scatter(data.loc[:,'generosity'], y, s)\n",
    "plt.title('generosity')\n",
    "\n",
    "plt.subplot(4, 4, 6)\n",
    "plt.scatter(data.loc[:,'corruption'], y, s)\n",
    "plt.title('corruption')\n",
    "\n",
    "plt.subplot(4, 4, 7)\n",
    "plt.scatter(data.loc[:,'dystopia_residual'], y, s)\n",
    "plt.title('dystopia_residual')\n",
    "\n",
    "plt.subplot(4, 4, 8)\n",
    "plt.scatter(data.loc[:,'internet_access_population[%]'], y, s)\n",
    "plt.title('internet_access_population[%]')\n",
    "\n",
    "plt.subplot(4, 4, 9)\n",
    "plt.scatter(data.loc[:,'cellular_subscriptions'], y, s)\n",
    "plt.title('cellular_subscriptions')\n",
    "\n",
    "plt.subplot(4, 4, 10)\n",
    "plt.scatter(data.loc[:,'surplus_deficit_GDP[%]'], y, s)\n",
    "plt.ylim(plt.ylim()[0],100)\n",
    "plt.title('surplus_deficit_GDP[%]')\n",
    "\n",
    "plt.subplot(4, 4, 11)\n",
    "plt.scatter(data.loc[:,'familiy_income_gini_coeff'], y, s)\n",
    "plt.title('familiy_income_gini_coeff')\n",
    "\n",
    "plt.subplot(4, 4, 12)\n",
    "plt.scatter(data.loc[:,'GDP_per_capita[$]'], y, s)\n",
    "plt.title('GDP_per_capita[$]')\n",
    "\n",
    "plt.subplot(4, 4, 13)\n",
    "plt.scatter(data.loc[:,'inflation_rate[%]'], y, s)\n",
    "plt.ylim(plt.ylim()[0],100)\n",
    "plt.title('inflation_rate[%]')\n",
    "\n",
    "plt.subplot(4, 4, 14)\n",
    "plt.scatter(data.loc[:,'military_expenditures[%]'], y, s)\n",
    "plt.ylim(plt.ylim()[0],100)\n",
    "plt.title('military_expenditures[%]')\n",
    "\n",
    "plt.subplot(4, 4, 15)\n",
    "plt.scatter(data.loc[:,'population'], y, s)\n",
    "plt.title('population')\n",
    "\n",
    "plt.subplots_adjust(top=2, bottom=0, left=0, right=2, hspace=0.35, wspace=0.35)\n",
    "\n",
    "#np.corrcoef(x, data.loc[:,'population'])\n",
    "\n",
    "\n",
    "\n",
    "#np.corrcoef(data.loc[:,'economy'], data.loc[:,'family'])\n",
    "#np.corrcoef(data.loc[:,'freedom'], data.loc[:,'cellular_subscriptions'])\n",
    "#np.corrcoef([data.loc[:,'freedom'], data.loc[:,'familiy_income_gini_coeff']])\n",
    "#np.corrcoef([x, data.loc[:,'familiy_income_gini_coeff']])\n",
    "\n"
   ]
  },
  {
   "cell_type": "markdown",
   "metadata": {},
   "source": [
    "\\begin{enumerate}\n",
    "    \\item economy: positive linear correlation\n",
    "    \\item family: positive linear/quadratic correlation\n",
    "    \\item health: positive linear correlation\n",
    "    \\item freedom: linear / quadratic / cubic correlation\n",
    "    \\item generosity: weak quadratic correlation / no correlation\n",
    "    \\item corruption: quadratic correlation / no correlation\n",
    "    \\item dystopia residual: no correlation\n",
    "    \\item internet acces population $\\left[ \\% \\right]$: positive linear correlation / cubic correlation\n",
    "    \\item cellular subscriptions: quadratic correlation\n",
    "    \\item surplus deficit GDP $\\left[ \\% \\right]$: no correlation\n",
    "    \\item family income gini coeff: no correlation / weak negative linear correlation\n",
    "    \\item GDP per capital $\\left[ \\$ \\right]$: quadratic correlation\n",
    "    \\item inflation rate $\\left[ \\% \\right]$: no correlation\n",
    "    \\item military expenditures $\\left[ \\% \\right]$: no correlation\n",
    "    \\item population: no correlation\n",
    "\\end{enumerate}"
   ]
  },
  {
   "cell_type": "markdown",
   "metadata": {},
   "source": [
    "For the linear model only linear (and possibly linear) correlations were considered. Also, the VIF was calculated to check for multicolinearity (i.e., to check if independent variables are correlated among each other). This is ofcourse necessary as $R^2$ predicted falls of if multicolinearity is too high). A VIF of 1 is good, a VIF between 5 and 10 indicates high correlation. From the left table below, the economy and internet access population columns are too high and could cause trouble.\n",
    "\n",
    "\\begin{tabular}{|l|c|}\n",
    "    \\hline\n",
    "    Variance inflation factor (VIF) &\\\\\n",
    "    \\hline\n",
    "    economy &                          6.330479\\\\\n",
    "    family &                           2.052008\\\\\n",
    "    health &                           3.974670\\\\\n",
    "    freedom &                          1.246693\\\\\n",
    "    dystopia\\_residual &                1.029444\\\\\n",
    "    internet\\_access\\_population $\\left[ \\% \\right]$ &    5.689814\\\\\n",
    "    \\hline\n",
    "\\end{tabular}\n",
    "\n",
    "By removing the 'internet access population' variable, the VIF is relatively low for all independent variables. \n",
    "\n",
    "\\begin{tabular}{|l|c|}\n",
    "    \\hline\n",
    "    Variance inflation factor (VIF) &\\\\\n",
    "    \\hline\n",
    "    economy &              4.161531\\\\\n",
    "    family &               2.044164\\\\\n",
    "    health &               3.502881\\\\\n",
    "    freedom &              1.245993\\\\\n",
    "    dystopia\\_residual &    1.013095\\\\\n",
    "    \\hline\n",
    "\\end{tabular}\n",
    "\n",
    "The VIF was calculated using the \\textit{scipy} package and therefore, only the results are presented here."
   ]
  },
  {
   "cell_type": "markdown",
   "metadata": {},
   "source": [
    "# Q2.2"
   ]
  },
  {
   "cell_type": "markdown",
   "metadata": {},
   "source": [
    "Load data and set up packages"
   ]
  },
  {
   "cell_type": "code",
   "execution_count": 2,
   "metadata": {},
   "outputs": [],
   "source": [
    "from sklearn.kernel_ridge import KernelRidge\n",
    "from sklearn.model_selection import train_test_split\n",
    "from sklearn.model_selection import RepeatedKFold"
   ]
  },
  {
   "cell_type": "markdown",
   "metadata": {},
   "source": [
    "Check the dataset for missing values and, if any are found, address them programmatically"
   ]
  },
  {
   "cell_type": "code",
   "execution_count": 16,
   "metadata": {},
   "outputs": [
    {
     "data": {
      "text/plain": [
       "const                            33.742991\n",
       "economy                           6.330479\n",
       "family                            2.052008\n",
       "health                            3.974670\n",
       "freedom                           1.246693\n",
       "dystopia_residual                 1.029444\n",
       "internet_access_population[%]     5.689814\n",
       "dtype: float64"
      ]
     },
     "execution_count": 16,
     "metadata": {},
     "output_type": "execute_result"
    }
   ],
   "source": [
    "# we dropped unwanted columns before and replaced extreme outliers with NaNs.\n",
    "data.fillna(data.mean(), inplace=True);\n",
    "\n",
    "\n",
    "# analyzing the linear model with scipy statistics\n",
    "#import scipy as sp\n",
    "#X = data.loc[:,['family', 'health', 'internet_access_population[%]', 'freedom', 'familiy_income_gini_coeff']]\n",
    "#cc = sp.corrcoef(X, rowvar=False)\n",
    "#VIF = np.linalg.inv(cc)\n",
    "#VIF.diagonal()\n",
    "\n",
    "#sp.stats.f_oneway(data['happiness_score'], data['freedom'], data['familiy_income_gini_coeff'])\n",
    "#sp.stats.kruskal(data['happiness_score'], data['internet_access_population[%]'])\n",
    "\n",
    "\n",
    "from statsmodels.stats.outliers_influence import variance_inflation_factor\n",
    "from statsmodels.tools.tools import add_constant\n",
    "X = data.loc[:,['economy', 'family', 'health', 'freedom', 'dystopia_residual', 'internet_access_population[%]']]\n",
    "X = add_constant(X)\n",
    "pd.Series([variance_inflation_factor(X.values, i)\n",
    "          for i in range(X.shape[1])],\n",
    "          index=X.columns)\n"
   ]
  },
  {
   "cell_type": "markdown",
   "metadata": {},
   "source": [
    "## Linear model"
   ]
  },
  {
   "cell_type": "code",
   "execution_count": 18,
   "metadata": {},
   "outputs": [
    {
     "name": "stdout",
     "output_type": "stream",
     "text": [
      "0.9775544582666984\n",
      "[ 0.59447929  0.33292534 -0.12752385  0.45375285  0.6455585 ]\n"
     ]
    },
    {
     "data": {
      "text/plain": [
       "1.8991921331703663"
      ]
     },
     "execution_count": 18,
     "metadata": {},
     "output_type": "execute_result"
    }
   ],
   "source": [
    "from sklearn.model_selection import cross_val_score\n",
    "\n",
    "#linearModel = LinearRegression();\n",
    "\n",
    "#x_reshaped = np.array(data.happiness_score).reshape(-1,1)\n",
    "#linearModel.fit(x_reshaped, data.family)\n",
    "\n",
    "#reg_x = np.linspace(2.5,7.5, 100).reshape(-1,1)\n",
    "#reg_y = linearModel.predict(reg_x)\n",
    "\n",
    "#plt.scatter(data.happiness_score, data.family)\n",
    "#plt.plot(reg_x, reg_y, c ='red')\n",
    "\n",
    "X = data.loc[:,['economy', 'family', 'health', 'freedom', 'dystopia_residual']]\n",
    "y = data['happiness_score']\n",
    "\n",
    "kr = KernelRidge(alpha=1e-6, kernel='linear', gamma=None, coef0=1, kernel_params=None)\n",
    "print(kr.fit(X,y).score(X,y))\n",
    "\n",
    "\n",
    "scores = cross_val_score(kr, X, y, cv=5)\n",
    "print(scores)\n",
    "scores.sum()\n",
    "#kf = KFold(5)\n",
    "#kf.get_n_splits(X,y)\n",
    "#for train_index, test_index in kf.split(X,y):\n",
    "#    X_train, X_test = X[train_index], X[test_index]\n",
    "#    y_train, y_test = y[train_index], y[test_index]\n",
    "#    y_train = lab_enc.fit_transform(y_train)\n",
    "#    y_test = lab_enc.fit_transform(y_test)\n",
    "#    clf = svm.SVC(kernel='linear', C=1).fit(X_train, y_train)\n",
    "#    print(clf.score(X_test, y_test))\n",
    "\n",
    "    \n",
    "#X_train, X_test, y_train, y_test = train_test_split(X, y, test_size=0.4, random_state=0)\n",
    "\n"
   ]
  },
  {
   "cell_type": "markdown",
   "metadata": {},
   "source": [
    "{text results here}"
   ]
  },
  {
   "cell_type": "markdown",
   "metadata": {},
   "source": [
    "## Quadratic model"
   ]
  },
  {
   "cell_type": "code",
   "execution_count": 5,
   "metadata": {},
   "outputs": [],
   "source": [
    "\n",
    "#sklearn.metrics.pairwise.polynomial_kernel(x_reshaped, np.array(data.family).reshape(-1,1), degree=2, gamma=None, coef0=1)\n",
    "\n",
    "#reg_x = np.linspace(2.5,7.5, 100).reshape(-1,1)\n",
    "#reg_y = linearModel.predict(reg_x)\n",
    "\n",
    "#plt.scatter(data.happiness_score, data.family)\n",
    "#plt.plot(reg_x, reg_y, c ='red')\n"
   ]
  },
  {
   "cell_type": "markdown",
   "metadata": {},
   "source": [
    "{text results here}"
   ]
  },
  {
   "cell_type": "markdown",
   "metadata": {},
   "source": [
    "## Gaussian model"
   ]
  },
  {
   "cell_type": "code",
   "execution_count": null,
   "metadata": {},
   "outputs": [],
   "source": []
  },
  {
   "cell_type": "markdown",
   "metadata": {},
   "source": [
    "{text results here}"
   ]
  },
  {
   "cell_type": "markdown",
   "metadata": {},
   "source": [
    "## Comparison"
   ]
  },
  {
   "cell_type": "markdown",
   "metadata": {},
   "source": [
    "{replace with your comparison paragraph/images}"
   ]
  }
 ],
 "metadata": {
  "kernelspec": {
   "display_name": "Python 3",
   "language": "python",
   "name": "python3"
  },
  "language_info": {
   "codemirror_mode": {
    "name": "ipython",
    "version": 3
   },
   "file_extension": ".py",
   "mimetype": "text/x-python",
   "name": "python",
   "nbconvert_exporter": "python",
   "pygments_lexer": "ipython3",
   "version": "3.6.7"
  }
 },
 "nbformat": 4,
 "nbformat_minor": 2
}
